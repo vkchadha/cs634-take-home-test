{
  "cells": [
    {
      "cell_type": "markdown",
      "metadata": {
        "id": "CRfVko2RrQ1M"
      },
      "source": [
        "# Midterm - Summer 2023\n",
        "\n",
        "## Problem 1: Take-at-home  (45 points total)\n",
        "\n",
        "You are applying for a position at the data science team of USDA and you are given data associated with determining appropriate parasite treatment of canines. The suggested treatment options are determined based on a **logistic regression** model that predicts if the canine is infected with a parasite.\n",
        "\n",
        "The data is given in the site: https://data.world/ehales/grls-parasite-study/workspace/file?filename=CBC_data.csv  and more specifically in the CBC_data.csv file. Login using you University Google account to access the data and the description that includes a paper on the study (**you dont need to read the paper to solve this problem**). Your target variable $y$ column is titled `parasite_status`.\n",
        "\n",
        "\n"
      ]
    },
    {
      "cell_type": "code",
      "execution_count": null,
      "metadata": {
        "id": "5xrPwn4qrQ1O"
      },
      "outputs": [],
      "source": []
    },
    {
      "cell_type": "markdown",
      "metadata": {
        "id": "HivqWmAmrQ1O"
      },
      "source": [
        "### Question 1 - Feature Engineering (5 points)\n",
        "\n",
        "Write the posterior probability expressions for logistic regression for the problem you are given to solve."
      ]
    },
    {
      "cell_type": "markdown",
      "metadata": {
        "id": "HQOz_TiCrQ1P"
      },
      "source": [
        "$$p(y=1| \\mathbf{x}, \\mathbf w)=$$\n",
        "\n",
        "$$p(y=0| \\mathbf{x}, \\mathbf w)=$$"
      ]
    },
    {
      "cell_type": "markdown",
      "metadata": {
        "id": "_cGGCEFrrQ1P"
      },
      "source": [
        "The posterior probability in logistic regression is the probability of the target variable given the input variables. It is calculated using the logistic regression function, which transforms the linear combination of input variables and coefficients into a probability value between 0 and 1."
      ]
    },
    {
      "cell_type": "markdown",
      "source": [
        "\n",
        "posterior probability can be used to update a previous belief once new information is obtained. Prior probability represents what is originally believed before new evidence is introduced, and posterior probability takes this new information into account\n",
        "\n",
        "$P( y=1 |X,w) = Π_{i=1}^Nσ(x_i^{T},w)^{y_i}(1-σ(x_i^{T}w))^{1-y_i}$\n",
        "\n",
        "$p(y=0|x)$ = 1 - $p(y=1|x)$\n",
        "\n",
        "$y_{i}$ will either be 0 or 1, so exactly one of $y_i$ or 1 􀀀 $y_i$ will be nonzero, which picks out the correct contribution to the likelihood\n"
      ],
      "metadata": {
        "id": "U4wiVbbt08g2"
      }
    },
    {
      "cell_type": "markdown",
      "metadata": {
        "id": "xCTE-d2NrQ1P"
      },
      "source": [
        "\n",
        "\n",
        "### Question 2 - Decision Boundary (5 points)\n",
        "\n",
        "Write the expression for the decision boundary assuming that $p(y=1)=p(y=0)$. The decision boundary is the line that separates the two classes.\n",
        "\n",
        "\n",
        "\n"
      ]
    },
    {
      "cell_type": "markdown",
      "metadata": {
        "id": "IjtT1qhZrQ1P"
      },
      "source": [
        "$$p(y=1| \\mathbf{x}, \\mathbf w)= \\hat{y}= \\sigma (w^{T}x )$$"
      ]
    },
    {
      "cell_type": "markdown",
      "metadata": {
        "id": "_eNX-ggtrQ1P"
      },
      "source": [
        "In data science, one of the fundamental information is  . Is the data linearly seperable and that help create the decision boundary , between different classes of data.\n",
        "In this case we have a binary classification, where the data linearly seperable. If the take p(y=1)=p(y=0) boundary is given by the line where P(x|y=1) = P(x|y=0).\n"
      ]
    },
    {
      "cell_type": "markdown",
      "metadata": {
        "id": "U9wm6-QnrQ1Q"
      },
      "source": [
        "\n",
        "\n",
        "### Question 3 - Loss function (5 points)\n",
        "\n",
        "Write the expression of the loss as a function of $\\mathbf w$ that makes sense for you to use in this problem.\n",
        "\n",
        "NOTE: The loss will be a function that will include this function:\n",
        "\n",
        "$$\\sigma(a) = \\frac{1}{1+e^{-a}}$$\n",
        "\n"
      ]
    },
    {
      "cell_type": "markdown",
      "metadata": {
        "id": "AJhi6vtprQ1Q"
      },
      "source": [
        "$$L_{CE} = L( y , \\hat{y}) = -log\\space p(y,w) = -1/m[\\sum_{i=1}^m \\{y_i\\space log \\space \\hat{y}_i + ( 1 - {y}_i) \\space log(1-\\hat{y}_i)\\}]$$\n",
        "which is called binary cross entropy loss function. where m is the number of samples y is the ground truth & $\\hat{y}$ is the predicted y.\n",
        "And predicted $\\hat{y}^{(i)} = \\sigma( w^{T} x(i)) $\n"
      ]
    },
    {
      "cell_type": "markdown",
      "metadata": {
        "id": "cDNHwmS0rQ1Q"
      },
      "source": [
        "\n",
        "### Question 4 - Gradient (5 points)\n",
        "\n",
        "Write the expression of the gradient of the loss with respect to the parameters - show all your work.\n",
        "\n"
      ]
    },
    {
      "cell_type": "markdown",
      "metadata": {
        "id": "NovoqcSDrQ1Q"
      },
      "source": [
        "$$ \\nabla_\\mathbf w L_{CE} = $$"
      ]
    },
    {
      "cell_type": "markdown",
      "metadata": {
        "id": "WQiwOz_8rQ1Q"
      },
      "source": [
        "$$ \\nabla_\\mathbf w L_{CE} = \\sum_{i=1}^m (\\hat{y}_i - y_i)x_i$$\n",
        "\n",
        " Just like RMSE where we start off calculating the error between the actual output and the predicted output (y-hat). The gradient descent algorithm behaves similarly, but it is based on a convex function.\n",
        "\n",
        " Starting point ins this case is an arbitrary point for us to evaluate the performance. From that, we will find the derivative (or slope), and from there, we can use a tangent line to observe the steepness of the slope. The slope will inform the updates to the parameters—i.e. the weights and bias.\n",
        "\n",
        " Slope at the starting point will be steeper, but as new parameters are generated, the steepness should gradually reduce until it reaches the lowest point on the curve, known as the point of convergence.   This called the local or global minimum ( based on the size used, complete set or mini batches )."
      ]
    },
    {
      "cell_type": "markdown",
      "metadata": {
        "id": "LZMxpvAXrQ1Q"
      },
      "source": [
        "### Question 5 - Imbalanced dataset (10 points)\n",
        "\n",
        "You are now told that in the dataset  \n",
        "\n",
        "$$p(y=0) >> p(y=1)$$\n",
        "\n",
        "Can you comment if the accuracy of Logistic Regression will be affected by such imbalance?\n",
        "\n"
      ]
    },
    {
      "cell_type": "markdown",
      "metadata": {
        "id": "4mU_qukKrQ1Q"
      },
      "source": [
        "Logistic Regression Definitely get effected by imbalanced data sets. We can see using the Confusion matrix below. The result is the model is heavily baised towards the majority class and perform poorly on the minority class. We had close to 10% false negatives in the examples below ( see Confusion Matix )  .\n",
        "Basic issue is unbalanced training data affects only the estimate of the model intercept , this of course skews all the predicted probabilities, which in turn compromises your predictions."
      ]
    },
    {
      "cell_type": "code",
      "execution_count": null,
      "metadata": {
        "id": "eHMzZRBtrQ1Q"
      },
      "outputs": [],
      "source": [
        "# write your code here"
      ]
    },
    {
      "cell_type": "markdown",
      "metadata": {
        "id": "GJn-if5hrQ1Q"
      },
      "source": [
        "\n",
        "### Question 6 - SGD (15 points)\n",
        "\n",
        "The interviewer was impressed with your answers and wants to test your programming skills.\n",
        "\n",
        "1. Use the dataset to train a logistic regressor that will predict the target variable $y$.\n",
        "\n",
        " 2. Report the harmonic mean of precision (p) and recall (r) i.e the  [metric called $F_1$ score](https://en.wikipedia.org/wiki/F-score) that is calculated as shown below using a test dataset that is 20% of each group. Plot the $F_1$ score vs the iteration number  $t$.\n",
        "\n",
        "$$F_1 = \\frac{2}{r^{-1} + p^{-1}}$$\n",
        "\n",
        "Your code includes hyperparameter optimization of the learning rate and mini batch size. Please learn about cross validation which is a splitting strategy for tuning models [here](https://scikit-learn.org/stable/modules/cross_validation.html).\n",
        "\n",
        "You are allowed to use any library you want to code this problem.\n",
        "\n"
      ]
    },
    {
      "cell_type": "code",
      "execution_count": null,
      "metadata": {
        "id": "XPn4zk0crQ1R",
        "outputId": "75a1e48c-30b5-444b-dc53-4c2cefd47972",
        "colab": {
          "base_uri": "https://localhost:8080/"
        }
      },
      "outputs": [
        {
          "output_type": "stream",
          "name": "stdout",
          "text": [
            "Requirement already satisfied: matplotlib in /usr/local/lib/python3.10/dist-packages (3.7.1)\n",
            "Requirement already satisfied: contourpy>=1.0.1 in /usr/local/lib/python3.10/dist-packages (from matplotlib) (1.1.0)\n",
            "Requirement already satisfied: cycler>=0.10 in /usr/local/lib/python3.10/dist-packages (from matplotlib) (0.11.0)\n",
            "Requirement already satisfied: fonttools>=4.22.0 in /usr/local/lib/python3.10/dist-packages (from matplotlib) (4.40.0)\n",
            "Requirement already satisfied: kiwisolver>=1.0.1 in /usr/local/lib/python3.10/dist-packages (from matplotlib) (1.4.4)\n",
            "Requirement already satisfied: numpy>=1.20 in /usr/local/lib/python3.10/dist-packages (from matplotlib) (1.22.4)\n",
            "Requirement already satisfied: packaging>=20.0 in /usr/local/lib/python3.10/dist-packages (from matplotlib) (23.1)\n",
            "Requirement already satisfied: pillow>=6.2.0 in /usr/local/lib/python3.10/dist-packages (from matplotlib) (8.4.0)\n",
            "Requirement already satisfied: pyparsing>=2.3.1 in /usr/local/lib/python3.10/dist-packages (from matplotlib) (3.1.0)\n",
            "Requirement already satisfied: python-dateutil>=2.7 in /usr/local/lib/python3.10/dist-packages (from matplotlib) (2.8.2)\n",
            "Requirement already satisfied: six>=1.5 in /usr/local/lib/python3.10/dist-packages (from python-dateutil>=2.7->matplotlib) (1.16.0)\n",
            "Requirement already satisfied: sklearn in /usr/local/lib/python3.10/dist-packages (0.0.post5)\n",
            "Requirement already satisfied: pandas in /usr/local/lib/python3.10/dist-packages (1.5.3)\n",
            "Requirement already satisfied: python-dateutil>=2.8.1 in /usr/local/lib/python3.10/dist-packages (from pandas) (2.8.2)\n",
            "Requirement already satisfied: pytz>=2020.1 in /usr/local/lib/python3.10/dist-packages (from pandas) (2022.7.1)\n",
            "Requirement already satisfied: numpy>=1.21.0 in /usr/local/lib/python3.10/dist-packages (from pandas) (1.22.4)\n",
            "Requirement already satisfied: six>=1.5 in /usr/local/lib/python3.10/dist-packages (from python-dateutil>=2.8.1->pandas) (1.16.0)\n"
          ]
        }
      ],
      "source": [
        "!pip install matplotlib\n",
        "!pip install sklearn\n",
        "!pip install pandas\n"
      ]
    },
    {
      "cell_type": "code",
      "execution_count": null,
      "metadata": {
        "id": "hulI9TlzrQ1R",
        "outputId": "e40373ca-56ef-40ba-d535-d85e64b5460b",
        "colab": {
          "base_uri": "https://localhost:8080/",
          "height": 300
        }
      },
      "outputs": [
        {
          "output_type": "execute_result",
          "data": {
            "text/plain": [
              "               AGE          RBC          HGB          WBC      EOS.CNT  \\\n",
              "count  3018.000000  2995.000000  2995.000000  2996.000000  2995.000000   \n",
              "mean     14.231942     6.397058    15.605309     9.738418   299.133556   \n",
              "std       6.506101     0.633286     1.600633     2.570528   290.512926   \n",
              "min       4.000000     3.800000     9.000000     4.000000     0.000000   \n",
              "25%       8.000000     6.000000    14.500000     7.975000   101.000000   \n",
              "50%      14.000000     6.400000    15.600000     9.500000   226.000000   \n",
              "75%      20.000000     6.800000    16.700000    11.100000   409.000000   \n",
              "max      38.000000     8.300000    20.300000    26.700000  3216.000000   \n",
              "\n",
              "          MONO.CNT       NUT.CNT       PL.CNT     LYMP.CNT  \n",
              "count  2995.000000   2995.000000  2995.000000  2995.000000  \n",
              "mean    476.942905   5588.133890   234.432721  3358.970952  \n",
              "std     284.374317   1917.912302    64.877983  1125.665558  \n",
              "min       0.000000   1599.000000    17.000000   148.000000  \n",
              "25%     276.000000   4314.000000   196.000000  2582.500000  \n",
              "50%     400.000000   5280.000000   232.000000  3264.000000  \n",
              "75%     615.000000   6480.000000   273.000000  4033.000000  \n",
              "max    1920.000000  20292.000000   561.000000  9548.000000  "
            ],
            "text/html": [
              "\n",
              "  <div id=\"df-bf1a6e2a-4ad6-4bcd-bd5e-20864682452c\">\n",
              "    <div class=\"colab-df-container\">\n",
              "      <div>\n",
              "<style scoped>\n",
              "    .dataframe tbody tr th:only-of-type {\n",
              "        vertical-align: middle;\n",
              "    }\n",
              "\n",
              "    .dataframe tbody tr th {\n",
              "        vertical-align: top;\n",
              "    }\n",
              "\n",
              "    .dataframe thead th {\n",
              "        text-align: right;\n",
              "    }\n",
              "</style>\n",
              "<table border=\"1\" class=\"dataframe\">\n",
              "  <thead>\n",
              "    <tr style=\"text-align: right;\">\n",
              "      <th></th>\n",
              "      <th>AGE</th>\n",
              "      <th>RBC</th>\n",
              "      <th>HGB</th>\n",
              "      <th>WBC</th>\n",
              "      <th>EOS.CNT</th>\n",
              "      <th>MONO.CNT</th>\n",
              "      <th>NUT.CNT</th>\n",
              "      <th>PL.CNT</th>\n",
              "      <th>LYMP.CNT</th>\n",
              "    </tr>\n",
              "  </thead>\n",
              "  <tbody>\n",
              "    <tr>\n",
              "      <th>count</th>\n",
              "      <td>3018.000000</td>\n",
              "      <td>2995.000000</td>\n",
              "      <td>2995.000000</td>\n",
              "      <td>2996.000000</td>\n",
              "      <td>2995.000000</td>\n",
              "      <td>2995.000000</td>\n",
              "      <td>2995.000000</td>\n",
              "      <td>2995.000000</td>\n",
              "      <td>2995.000000</td>\n",
              "    </tr>\n",
              "    <tr>\n",
              "      <th>mean</th>\n",
              "      <td>14.231942</td>\n",
              "      <td>6.397058</td>\n",
              "      <td>15.605309</td>\n",
              "      <td>9.738418</td>\n",
              "      <td>299.133556</td>\n",
              "      <td>476.942905</td>\n",
              "      <td>5588.133890</td>\n",
              "      <td>234.432721</td>\n",
              "      <td>3358.970952</td>\n",
              "    </tr>\n",
              "    <tr>\n",
              "      <th>std</th>\n",
              "      <td>6.506101</td>\n",
              "      <td>0.633286</td>\n",
              "      <td>1.600633</td>\n",
              "      <td>2.570528</td>\n",
              "      <td>290.512926</td>\n",
              "      <td>284.374317</td>\n",
              "      <td>1917.912302</td>\n",
              "      <td>64.877983</td>\n",
              "      <td>1125.665558</td>\n",
              "    </tr>\n",
              "    <tr>\n",
              "      <th>min</th>\n",
              "      <td>4.000000</td>\n",
              "      <td>3.800000</td>\n",
              "      <td>9.000000</td>\n",
              "      <td>4.000000</td>\n",
              "      <td>0.000000</td>\n",
              "      <td>0.000000</td>\n",
              "      <td>1599.000000</td>\n",
              "      <td>17.000000</td>\n",
              "      <td>148.000000</td>\n",
              "    </tr>\n",
              "    <tr>\n",
              "      <th>25%</th>\n",
              "      <td>8.000000</td>\n",
              "      <td>6.000000</td>\n",
              "      <td>14.500000</td>\n",
              "      <td>7.975000</td>\n",
              "      <td>101.000000</td>\n",
              "      <td>276.000000</td>\n",
              "      <td>4314.000000</td>\n",
              "      <td>196.000000</td>\n",
              "      <td>2582.500000</td>\n",
              "    </tr>\n",
              "    <tr>\n",
              "      <th>50%</th>\n",
              "      <td>14.000000</td>\n",
              "      <td>6.400000</td>\n",
              "      <td>15.600000</td>\n",
              "      <td>9.500000</td>\n",
              "      <td>226.000000</td>\n",
              "      <td>400.000000</td>\n",
              "      <td>5280.000000</td>\n",
              "      <td>232.000000</td>\n",
              "      <td>3264.000000</td>\n",
              "    </tr>\n",
              "    <tr>\n",
              "      <th>75%</th>\n",
              "      <td>20.000000</td>\n",
              "      <td>6.800000</td>\n",
              "      <td>16.700000</td>\n",
              "      <td>11.100000</td>\n",
              "      <td>409.000000</td>\n",
              "      <td>615.000000</td>\n",
              "      <td>6480.000000</td>\n",
              "      <td>273.000000</td>\n",
              "      <td>4033.000000</td>\n",
              "    </tr>\n",
              "    <tr>\n",
              "      <th>max</th>\n",
              "      <td>38.000000</td>\n",
              "      <td>8.300000</td>\n",
              "      <td>20.300000</td>\n",
              "      <td>26.700000</td>\n",
              "      <td>3216.000000</td>\n",
              "      <td>1920.000000</td>\n",
              "      <td>20292.000000</td>\n",
              "      <td>561.000000</td>\n",
              "      <td>9548.000000</td>\n",
              "    </tr>\n",
              "  </tbody>\n",
              "</table>\n",
              "</div>\n",
              "      <button class=\"colab-df-convert\" onclick=\"convertToInteractive('df-bf1a6e2a-4ad6-4bcd-bd5e-20864682452c')\"\n",
              "              title=\"Convert this dataframe to an interactive table.\"\n",
              "              style=\"display:none;\">\n",
              "        \n",
              "  <svg xmlns=\"http://www.w3.org/2000/svg\" height=\"24px\"viewBox=\"0 0 24 24\"\n",
              "       width=\"24px\">\n",
              "    <path d=\"M0 0h24v24H0V0z\" fill=\"none\"/>\n",
              "    <path d=\"M18.56 5.44l.94 2.06.94-2.06 2.06-.94-2.06-.94-.94-2.06-.94 2.06-2.06.94zm-11 1L8.5 8.5l.94-2.06 2.06-.94-2.06-.94L8.5 2.5l-.94 2.06-2.06.94zm10 10l.94 2.06.94-2.06 2.06-.94-2.06-.94-.94-2.06-.94 2.06-2.06.94z\"/><path d=\"M17.41 7.96l-1.37-1.37c-.4-.4-.92-.59-1.43-.59-.52 0-1.04.2-1.43.59L10.3 9.45l-7.72 7.72c-.78.78-.78 2.05 0 2.83L4 21.41c.39.39.9.59 1.41.59.51 0 1.02-.2 1.41-.59l7.78-7.78 2.81-2.81c.8-.78.8-2.07 0-2.86zM5.41 20L4 18.59l7.72-7.72 1.47 1.35L5.41 20z\"/>\n",
              "  </svg>\n",
              "      </button>\n",
              "      \n",
              "  <style>\n",
              "    .colab-df-container {\n",
              "      display:flex;\n",
              "      flex-wrap:wrap;\n",
              "      gap: 12px;\n",
              "    }\n",
              "\n",
              "    .colab-df-convert {\n",
              "      background-color: #E8F0FE;\n",
              "      border: none;\n",
              "      border-radius: 50%;\n",
              "      cursor: pointer;\n",
              "      display: none;\n",
              "      fill: #1967D2;\n",
              "      height: 32px;\n",
              "      padding: 0 0 0 0;\n",
              "      width: 32px;\n",
              "    }\n",
              "\n",
              "    .colab-df-convert:hover {\n",
              "      background-color: #E2EBFA;\n",
              "      box-shadow: 0px 1px 2px rgba(60, 64, 67, 0.3), 0px 1px 3px 1px rgba(60, 64, 67, 0.15);\n",
              "      fill: #174EA6;\n",
              "    }\n",
              "\n",
              "    [theme=dark] .colab-df-convert {\n",
              "      background-color: #3B4455;\n",
              "      fill: #D2E3FC;\n",
              "    }\n",
              "\n",
              "    [theme=dark] .colab-df-convert:hover {\n",
              "      background-color: #434B5C;\n",
              "      box-shadow: 0px 1px 3px 1px rgba(0, 0, 0, 0.15);\n",
              "      filter: drop-shadow(0px 1px 2px rgba(0, 0, 0, 0.3));\n",
              "      fill: #FFFFFF;\n",
              "    }\n",
              "  </style>\n",
              "\n",
              "      <script>\n",
              "        const buttonEl =\n",
              "          document.querySelector('#df-bf1a6e2a-4ad6-4bcd-bd5e-20864682452c button.colab-df-convert');\n",
              "        buttonEl.style.display =\n",
              "          google.colab.kernel.accessAllowed ? 'block' : 'none';\n",
              "\n",
              "        async function convertToInteractive(key) {\n",
              "          const element = document.querySelector('#df-bf1a6e2a-4ad6-4bcd-bd5e-20864682452c');\n",
              "          const dataTable =\n",
              "            await google.colab.kernel.invokeFunction('convertToInteractive',\n",
              "                                                     [key], {});\n",
              "          if (!dataTable) return;\n",
              "\n",
              "          const docLinkHtml = 'Like what you see? Visit the ' +\n",
              "            '<a target=\"_blank\" href=https://colab.research.google.com/notebooks/data_table.ipynb>data table notebook</a>'\n",
              "            + ' to learn more about interactive tables.';\n",
              "          element.innerHTML = '';\n",
              "          dataTable['output_type'] = 'display_data';\n",
              "          await google.colab.output.renderOutput(dataTable, element);\n",
              "          const docLink = document.createElement('div');\n",
              "          docLink.innerHTML = docLinkHtml;\n",
              "          element.appendChild(docLink);\n",
              "        }\n",
              "      </script>\n",
              "    </div>\n",
              "  </div>\n",
              "  "
            ]
          },
          "metadata": {},
          "execution_count": 5
        }
      ],
      "source": [
        "import matplotlib.pyplot as plt\n",
        "import numpy as np\n",
        "from sklearn.linear_model import LogisticRegression\n",
        "from sklearn.metrics import classification_report, confusion_matrix\n",
        "import pandas as pd\n",
        "file_path = '.'\n",
        "file_name = 'CBC_data.csv'\n",
        "data_df = pd.read_csv( f'{file_path}/{file_name}')\n",
        "data_df.describe()\n",
        "#syntax: df[ ‘Result’ ] = df[ data_df ].apply( lambda x: ‘Pass’ if x>=5 else ‘Fail’ )\n",
        "\n"
      ]
    },
    {
      "cell_type": "code",
      "execution_count": null,
      "metadata": {
        "id": "t5BApgqerQ1R"
      },
      "outputs": [],
      "source": [
        "def read_data(file_path, file_name):\n",
        "    return pd.read_csv( f'{file_path}/{file_name}')\n",
        "\n",
        "\n",
        "def replace_nan(data_df):\n",
        "    return data_df.replace([np.inf, -np.inf], np.nan, inplace=True)\n",
        "\n",
        "def prep_target(data_df):\n",
        "    ''' Custom code written for just this data set '''\n",
        "    data_df[ 'TARGET' ] = data_df[ 'PARASITE_STATUS' ].apply( lambda x: '0' if x == 'Negative'  else  1 )\n",
        "    data_df.drop('PARASITE_STATUS', axis =1, inplace = True)\n",
        "    data_df['TARGET'] = data_df['TARGET'].astype('float')\n",
        "    return data_df\n",
        "\n",
        "def encode_data(data_df):\n",
        "     from sklearn import preprocessing\n",
        "     le = preprocessing.LabelEncoder()\n",
        "     for column_name in data_df.columns:\n",
        "        if (data_df[column_name].dtype == object) and (data_df[column_name].dtype != None):\n",
        "            data_df[column_name] = le.fit_transform(data_df[column_name])\n",
        "        else:\n",
        "            pass\n",
        "     return data_df\n",
        "\n",
        "def prep_x_y(data_df):\n",
        "    return data_df[list(data_df.columns[:-1])] , data_df['TARGET']\n",
        "\n",
        "def clean_dataset(data_df):\n",
        "    assert isinstance(data_df, pd.DataFrame), \"df needs to be a pd.DataFrame\"\n",
        "    data_df.dropna(inplace=True)\n",
        "    indices_to_keep = ~data_df.isin([np.nan, np.inf, -np.inf]).any(axis=1)\n",
        "    return data_df[indices_to_keep].astype(np.float64)\n",
        "\n",
        "def prep_dataset():\n",
        "    data_df = read_data(file_path, file_name)\n",
        "    data_df = prep_target(data_df)\n",
        "    data_df.dropna(inplace=True)\n",
        "    data_df = encode_data(data_df)\n",
        "\n",
        "    return data_df\n"
      ]
    },
    {
      "cell_type": "code",
      "execution_count": null,
      "metadata": {
        "id": "7uJxV5rYrQ1S",
        "outputId": "37a606d4-d292-40ff-baa8-395b1b4fb0f9",
        "colab": {
          "base_uri": "https://localhost:8080/",
          "height": 75
        }
      },
      "outputs": [
        {
          "output_type": "execute_result",
          "data": {
            "text/plain": [
              "LogisticRegression(C=10.0, random_state=42, solver='liblinear')"
            ],
            "text/html": [
              "<style>#sk-container-id-2 {color: black;background-color: white;}#sk-container-id-2 pre{padding: 0;}#sk-container-id-2 div.sk-toggleable {background-color: white;}#sk-container-id-2 label.sk-toggleable__label {cursor: pointer;display: block;width: 100%;margin-bottom: 0;padding: 0.3em;box-sizing: border-box;text-align: center;}#sk-container-id-2 label.sk-toggleable__label-arrow:before {content: \"▸\";float: left;margin-right: 0.25em;color: #696969;}#sk-container-id-2 label.sk-toggleable__label-arrow:hover:before {color: black;}#sk-container-id-2 div.sk-estimator:hover label.sk-toggleable__label-arrow:before {color: black;}#sk-container-id-2 div.sk-toggleable__content {max-height: 0;max-width: 0;overflow: hidden;text-align: left;background-color: #f0f8ff;}#sk-container-id-2 div.sk-toggleable__content pre {margin: 0.2em;color: black;border-radius: 0.25em;background-color: #f0f8ff;}#sk-container-id-2 input.sk-toggleable__control:checked~div.sk-toggleable__content {max-height: 200px;max-width: 100%;overflow: auto;}#sk-container-id-2 input.sk-toggleable__control:checked~label.sk-toggleable__label-arrow:before {content: \"▾\";}#sk-container-id-2 div.sk-estimator input.sk-toggleable__control:checked~label.sk-toggleable__label {background-color: #d4ebff;}#sk-container-id-2 div.sk-label input.sk-toggleable__control:checked~label.sk-toggleable__label {background-color: #d4ebff;}#sk-container-id-2 input.sk-hidden--visually {border: 0;clip: rect(1px 1px 1px 1px);clip: rect(1px, 1px, 1px, 1px);height: 1px;margin: -1px;overflow: hidden;padding: 0;position: absolute;width: 1px;}#sk-container-id-2 div.sk-estimator {font-family: monospace;background-color: #f0f8ff;border: 1px dotted black;border-radius: 0.25em;box-sizing: border-box;margin-bottom: 0.5em;}#sk-container-id-2 div.sk-estimator:hover {background-color: #d4ebff;}#sk-container-id-2 div.sk-parallel-item::after {content: \"\";width: 100%;border-bottom: 1px solid gray;flex-grow: 1;}#sk-container-id-2 div.sk-label:hover label.sk-toggleable__label {background-color: #d4ebff;}#sk-container-id-2 div.sk-serial::before {content: \"\";position: absolute;border-left: 1px solid gray;box-sizing: border-box;top: 0;bottom: 0;left: 50%;z-index: 0;}#sk-container-id-2 div.sk-serial {display: flex;flex-direction: column;align-items: center;background-color: white;padding-right: 0.2em;padding-left: 0.2em;position: relative;}#sk-container-id-2 div.sk-item {position: relative;z-index: 1;}#sk-container-id-2 div.sk-parallel {display: flex;align-items: stretch;justify-content: center;background-color: white;position: relative;}#sk-container-id-2 div.sk-item::before, #sk-container-id-2 div.sk-parallel-item::before {content: \"\";position: absolute;border-left: 1px solid gray;box-sizing: border-box;top: 0;bottom: 0;left: 50%;z-index: -1;}#sk-container-id-2 div.sk-parallel-item {display: flex;flex-direction: column;z-index: 1;position: relative;background-color: white;}#sk-container-id-2 div.sk-parallel-item:first-child::after {align-self: flex-end;width: 50%;}#sk-container-id-2 div.sk-parallel-item:last-child::after {align-self: flex-start;width: 50%;}#sk-container-id-2 div.sk-parallel-item:only-child::after {width: 0;}#sk-container-id-2 div.sk-dashed-wrapped {border: 1px dashed gray;margin: 0 0.4em 0.5em 0.4em;box-sizing: border-box;padding-bottom: 0.4em;background-color: white;}#sk-container-id-2 div.sk-label label {font-family: monospace;font-weight: bold;display: inline-block;line-height: 1.2em;}#sk-container-id-2 div.sk-label-container {text-align: center;}#sk-container-id-2 div.sk-container {/* jupyter's `normalize.less` sets `[hidden] { display: none; }` but bootstrap.min.css set `[hidden] { display: none !important; }` so we also need the `!important` here to be able to override the default hidden behavior on the sphinx rendered scikit-learn.org. See: https://github.com/scikit-learn/scikit-learn/issues/21755 */display: inline-block !important;position: relative;}#sk-container-id-2 div.sk-text-repr-fallback {display: none;}</style><div id=\"sk-container-id-2\" class=\"sk-top-container\"><div class=\"sk-text-repr-fallback\"><pre>LogisticRegression(C=10.0, random_state=42, solver=&#x27;liblinear&#x27;)</pre><b>In a Jupyter environment, please rerun this cell to show the HTML representation or trust the notebook. <br />On GitHub, the HTML representation is unable to render, please try loading this page with nbviewer.org.</b></div><div class=\"sk-container\" hidden><div class=\"sk-item\"><div class=\"sk-estimator sk-toggleable\"><input class=\"sk-toggleable__control sk-hidden--visually\" id=\"sk-estimator-id-2\" type=\"checkbox\" checked><label for=\"sk-estimator-id-2\" class=\"sk-toggleable__label sk-toggleable__label-arrow\">LogisticRegression</label><div class=\"sk-toggleable__content\"><pre>LogisticRegression(C=10.0, random_state=42, solver=&#x27;liblinear&#x27;)</pre></div></div></div></div></div>"
            ]
          },
          "metadata": {},
          "execution_count": 8
        }
      ],
      "source": [
        "from sklearn.model_selection import train_test_split\n",
        "\n",
        "X,y = prep_x_y(prep_dataset())\n",
        "X_train, X_test, y_train, y_test = train_test_split(\n",
        "    X, y, test_size=0.2)\n",
        "\n",
        "model = LogisticRegression(solver='liblinear', random_state=42, C=10.0)\n",
        "model.fit(X_train,y_train)"
      ]
    },
    {
      "cell_type": "code",
      "execution_count": null,
      "metadata": {
        "id": "44fU57DirQ1S",
        "outputId": "4d559011-2f48-40ca-e809-e76753b34d31",
        "colab": {
          "base_uri": "https://localhost:8080/"
        }
      },
      "outputs": [
        {
          "output_type": "stream",
          "name": "stdout",
          "text": [
            " intercept : [-0.04914148],  coefficient : [[-9.76547059e-05  1.16900748e-01 -3.67706100e-01 -5.05596664e-02\n",
            "  -8.37302074e-02 -3.22206619e-02 -1.06836216e-01 -1.39504482e-01\n",
            "   8.32902087e-03  1.41363681e-04  5.68610889e-05  1.21747292e-04\n",
            "   3.87759967e-03 -2.33623636e-04]] ,\n",
            " Probabilities Distribution Curve: [[0.97871988 0.02128012]\n",
            " [0.89989002 0.10010998]\n",
            " [0.95271838 0.04728162]\n",
            " ...\n",
            " [0.96104535 0.03895465]\n",
            " [0.95326097 0.04673903]\n",
            " [0.92922174 0.07077826]]\n",
            "[0.5        0.54166667 0.5        0.5        0.5       ]\n"
          ]
        },
        {
          "output_type": "stream",
          "name": "stderr",
          "text": [
            "/usr/local/lib/python3.10/dist-packages/sklearn/metrics/_classification.py:1344: UndefinedMetricWarning: Precision is ill-defined and being set to 0.0 in labels with no predicted samples. Use `zero_division` parameter to control this behavior.\n",
            "  _warn_prf(average, modifier, msg_start, len(result))\n",
            "/usr/local/lib/python3.10/dist-packages/sklearn/metrics/_classification.py:1344: UndefinedMetricWarning: Precision is ill-defined and being set to 0.0 in labels with no predicted samples. Use `zero_division` parameter to control this behavior.\n",
            "  _warn_prf(average, modifier, msg_start, len(result))\n",
            "/usr/local/lib/python3.10/dist-packages/sklearn/metrics/_classification.py:1344: UndefinedMetricWarning: Precision is ill-defined and being set to 0.0 in labels with no predicted samples. Use `zero_division` parameter to control this behavior.\n",
            "  _warn_prf(average, modifier, msg_start, len(result))\n",
            "/usr/local/lib/python3.10/dist-packages/sklearn/metrics/_classification.py:1344: UndefinedMetricWarning: Precision is ill-defined and being set to 0.0 in labels with no predicted samples. Use `zero_division` parameter to control this behavior.\n",
            "  _warn_prf(average, modifier, msg_start, len(result))\n"
          ]
        }
      ],
      "source": [
        "from sklearn.model_selection import cross_validate\n",
        "\n",
        "print ( f' intercept : {model.intercept_},  coefficient : {model.coef_ } ,\\n Probabilities Distribution Curve: { model.predict_proba(X_test) }')\n",
        "scoring = ['precision_macro', 'recall_macro']\n",
        "scores = cross_validate(model, X_test, y_test, scoring=scoring)\n",
        "sorted(scores.keys())\n",
        "['fit_time', 'score_time', 'test_precision_macro', 'test_recall_macro']\n",
        "\n",
        "model.predict(X_test)\n",
        "print( scores['test_recall_macro'])\n",
        "\n",
        "# cores = cross_validate(model, X, y, scoring=scoring, return_train_score= True)\n",
        "# sorted(scores.keys())\n",
        "# ['fit_time', 'score_time', 'test_precision_macro', 'test_recall_macro']\n",
        "\n",
        "# model.predict(X_test)\n",
        "# print (scores['test_recall_macro'])\n",
        "\n",
        "#print ( f' score : {model.score(X_test, y_test) }')\n",
        "\n"
      ]
    },
    {
      "cell_type": "code",
      "execution_count": null,
      "metadata": {
        "id": "nY1ZqcYSrQ1S",
        "outputId": "23f22ea2-af5f-4e1a-bc53-ce130d063e0e",
        "colab": {
          "base_uri": "https://localhost:8080/",
          "height": 368
        }
      },
      "outputs": [
        {
          "output_type": "display_data",
          "data": {
            "text/plain": [
              "<Figure size 400x400 with 1 Axes>"
            ],
            "image/png": "[encoded data removed]"
          },
          "metadata": {}
        }
      ],
      "source": [
        "confusion_matrix(y_test, model.predict(X_test))\n",
        "cm = confusion_matrix(y_test, model.predict(X_test))\n",
        "\n",
        "fig, ax = plt.subplots(figsize=(4, 4))\n",
        "ax.imshow(cm)\n",
        "ax.grid(False)\n",
        "ax.xaxis.set(ticks=(0, 1), ticklabels=('Predicted 0s', 'Predicted 1s'))\n",
        "ax.yaxis.set(ticks=(0, 1), ticklabels=('Actual 0s', 'Actual 1s'))\n",
        "ax.set_ylim(1.5, -0.5)\n",
        "for i in range(2):\n",
        "    for j in range(2):\n",
        "        ax.text(j, i, cm[i, j], ha='center', va='center', color='red')\n",
        "plt.show()"
      ]
    },
    {
      "cell_type": "code",
      "execution_count": null,
      "metadata": {
        "id": "6usfa3wUrQ1S",
        "outputId": "b50e824c-b400-4754-a6d6-192b8c4f3fea",
        "colab": {
          "base_uri": "https://localhost:8080/"
        }
      },
      "outputs": [
        {
          "output_type": "stream",
          "name": "stdout",
          "text": [
            "Accuracy = 0.9048414023372288\n"
          ]
        }
      ],
      "source": [
        "from sklearn.metrics import (\n",
        "    confusion_matrix,\n",
        "    accuracy_score,\n",
        "    precision_score,\n",
        "    recall_score,\n",
        "    f1_score\n",
        ")\n",
        "accuracy = accuracy_score(y_test, model.predict(X_test))\n",
        "print(f\"Accuracy = {accuracy}\")\n"
      ]
    },
    {
      "cell_type": "code",
      "source": [
        "from sklearn.metrics import roc_auc_score\n",
        "from sklearn.metrics import roc_curve\n",
        "logit_roc_auc = roc_auc_score(y_test, model.predict(X_test))\n",
        "fpr, tpr, thresholds = roc_curve(y_test, model.predict_proba(X_test)[:,1])\n",
        "plt.figure()\n",
        "plt.plot(fpr, tpr, label='Logistic Regression (area = %0.2f)' % logit_roc_auc)\n",
        "plt.plot([0, 1], [0, 1],'r--')\n",
        "plt.xlim([0.0, 1.0])\n",
        "plt.ylim([0.0, 1.05])\n",
        "plt.xlabel('FP Rate')\n",
        "plt.ylabel('TP Rate')\n",
        "plt.title('Predicts if the canine is infected with a parasite.')\n",
        "plt.legend(loc=\"lower right\")\n",
        "plt.show()"
      ],
      "metadata": {
        "colab": {
          "base_uri": "https://localhost:8080/",
          "height": 472
        },
        "id": "iD9ePZrJ2udh",
        "outputId": "40754fef-0ad4-4f44-de03-29957d651620"
      },
      "execution_count": null,
      "outputs": [
        {
          "output_type": "display_data",
          "data": {
            "text/plain": [
              "<Figure size 640x480 with 1 Axes>"
            ],
            "image/png": "[encoded data removed]"
          },
          "metadata": {}
        }
      ]
    },
    {
      "cell_type": "code",
      "execution_count": null,
      "metadata": {
        "id": "3vZlHQCmrQ1S",
        "outputId": "a5d6424f-8a1f-4ce0-81f6-9cdd453e8788"
      },
      "outputs": [
        {
          "name": "stdout",
          "output_type": "stream",
          "text": [
            "Precision = 0.0\n",
            "Recall = 0.0\n",
            "F1 Score = 0.0\n"
          ]
        },
        {
          "name": "stderr",
          "output_type": "stream",
          "text": [
            "/Users/vishalchadha/Library/Python/3.9/lib/python/site-packages/sklearn/metrics/_classification.py:1318: UndefinedMetricWarning: Precision is ill-defined and being set to 0.0 due to no predicted samples. Use `zero_division` parameter to control this behavior.\n",
            "  _warn_prf(average, modifier, msg_start, len(result))\n"
          ]
        }
      ],
      "source": [
        "precision = precision_score(y_test, model.predict(X_test))\n",
        "recall = recall_score(y_test, model.predict(X_test))\n",
        "f1score = f1_score(y_test, model.predict(X_test))\n",
        "\n",
        "print(f\"Precision = {precision}\")\n",
        "print(f\"Recall = {recall}\")\n",
        "print(f\"F1 Score = {f1score}\")"
      ]
    },
    {
      "cell_type": "markdown",
      "source": [
        "Try Using Balanced Tree"
      ],
      "metadata": {
        "id": "Lv9Tay0oCHX1"
      }
    },
    {
      "cell_type": "code",
      "execution_count": null,
      "metadata": {
        "id": "t6VMfLM5rQ1S"
      },
      "outputs": [],
      "source": [
        "model = LogisticRegression(\n",
        "    solver='liblinear',\n",
        "    class_weight='balanced' # handle imbalanced classes\n",
        ")\n",
        "# fit the model on the training data\n",
        "model.fit(X_train, y_train)\n",
        "# and then predict y for the test inputs\n",
        "y_test_predictions = model.predict(X_test)"
      ]
    },
    {
      "cell_type": "code",
      "execution_count": null,
      "metadata": {
        "id": "_VT99KoLrQ1S",
        "outputId": "6190b9ef-c95d-41f6-9242-0c6fe095937d",
        "colab": {
          "base_uri": "https://localhost:8080/"
        }
      },
      "outputs": [
        {
          "output_type": "stream",
          "name": "stdout",
          "text": [
            "Accuracy = 0.601\n",
            "Precision = 0.1181\n",
            "Recall = 0.4828\n",
            "F1 Score = 0.1898\n"
          ]
        }
      ],
      "source": [
        "accuracy = accuracy_score(y_test, y_test_predictions)\n",
        "precision = precision_score(y_test, y_test_predictions)\n",
        "recall = recall_score(y_test, y_test_predictions)\n",
        "f1score = f1_score(y_test, y_test_predictions)\n",
        "\n",
        "print(f\"Accuracy = {accuracy.round(4)}\")\n",
        "print(f\"Precision = {precision.round(4)}\")\n",
        "print(f\"Recall = {recall.round(4)}\")\n",
        "print(f\"F1 Score = {f1score.round(4)}\")"
      ]
    },
    {
      "cell_type": "code",
      "execution_count": null,
      "metadata": {
        "id": "sQeZTkkzrQ1S",
        "colab": {
          "base_uri": "https://localhost:8080/",
          "height": 472
        },
        "outputId": "2230b630-6f49-4552-bf45-52b3c1e556d5"
      },
      "outputs": [
        {
          "output_type": "display_data",
          "data": {
            "text/plain": [
              "<Figure size 640x480 with 1 Axes>"
            ],
            "image/png": "[encoded data removed]"
          },
          "metadata": {}
        }
      ],
      "source": [
        "from sklearn.metrics import roc_auc_score\n",
        "from sklearn.metrics import roc_curve\n",
        "logit_roc_auc = roc_auc_score(y_test, model.predict(X_test))\n",
        "fpr, tpr, thresholds = roc_curve(y_test, model.predict_proba(X_test)[:,1])\n",
        "plt.figure()\n",
        "plt.plot(fpr, tpr, label='Logistic Regression (area = %0.2f)' % logit_roc_auc)\n",
        "plt.plot([0, 1], [0, 1],'r--')\n",
        "plt.xlim([0.0, 1.0])\n",
        "plt.ylim([0.0, 1.0])\n",
        "plt.xlabel('FP Rate')\n",
        "plt.ylabel('TP Rate')\n",
        "plt.title('Predicts if the canine is infected with a parasite.')\n",
        "plt.legend(loc=\"lower right\")\n",
        "plt.show()"
      ]
    }
  ],
  "metadata": {
    "kernelspec": {
      "display_name": "ai-course",
      "language": "python",
      "name": "python3"
    },
    "language_info": {
      "codemirror_mode": {
        "name": "ipython",
        "version": 3
      },
      "file_extension": ".py",
      "mimetype": "text/x-python",
      "name": "python",
      "nbconvert_exporter": "python",
      "pygments_lexer": "ipython3",
      "version": "3.9.6"
    },
    "orig_nbformat": 4,
    "vscode": {
      "interpreter": {
        "hash": "62556f7a043365a66e0918c892755cfafede529a87e97207556f006a109bade4"
      }
    },
    "colab": {
      "provenance": []
    }
  },
  "nbformat": 4,
  "nbformat_minor": 0
}